{
  "nbformat": 4,
  "nbformat_minor": 0,
  "metadata": {
    "colab": {
      "name": "BIgQuery.ipynb",
      "version": "0.3.2",
      "provenance": []
    },
    "kernelspec": {
      "name": "python3",
      "display_name": "Python 3"
    }
  },
  "cells": [
    {
      "cell_type": "code",
      "metadata": {
        "id": "8L9fnSxxW4fj",
        "colab_type": "code",
        "colab": {}
      },
      "source": [
        "# import required library\n",
        "from google.cloud import bigquery\n",
        "\n",
        "import os\n",
        "from google.cloud.bigquery.client import Client\n",
        "\n",
        "os.environ['GOOGLE_APPLICATION_CREDENTIALS'] = 'My First Project-00fd939aac5d.json'"
      ],
      "execution_count": 0,
      "outputs": []
    },
    {
      "cell_type": "code",
      "metadata": {
        "id": "-bpRdTUfXAfm",
        "colab_type": "code",
        "colab": {}
      },
      "source": [
        "# create a \"Client\" object\n",
        "client = bigquery.Client()"
      ],
      "execution_count": 0,
      "outputs": []
    },
    {
      "cell_type": "code",
      "metadata": {
        "id": "CnwEj1QMXUQW",
        "colab_type": "code",
        "colab": {}
      },
      "source": [
        "# Construct a reference to the \"hacker_news\" dataset\n",
        "dataset_ref = client.dataset(\"hacker_news\", project=\"bigquery-public-data\")"
      ],
      "execution_count": 0,
      "outputs": []
    },
    {
      "cell_type": "code",
      "metadata": {
        "id": "M6j5XEPNY9OS",
        "colab_type": "code",
        "colab": {}
      },
      "source": [
        "# API request - fetch the dataset\n",
        "dataset = client.get_dataset(dataset_ref)"
      ],
      "execution_count": 0,
      "outputs": []
    },
    {
      "cell_type": "code",
      "metadata": {
        "id": "9y3mTaWVZVZN",
        "colab_type": "code",
        "outputId": "55ee7135-b759-483a-ac50-ee8dacc40b76",
        "colab": {
          "base_uri": "https://localhost:8080/",
          "height": 85
        }
      },
      "source": [
        "# List all the tables in the \"hacker_news\" dataset\n",
        "tables = list(client.list_tables(dataset))\n",
        "\n",
        "# Print names of all tables in the dataset (there are four!)\n",
        "for table in tables:\n",
        "  print(table.table_id)"
      ],
      "execution_count": 0,
      "outputs": [
        {
          "output_type": "stream",
          "text": [
            "comments\n",
            "full\n",
            "full_201510\n",
            "stories\n"
          ],
          "name": "stdout"
        }
      ]
    },
    {
      "cell_type": "code",
      "metadata": {
        "id": "6xQa7N0OZrwF",
        "colab_type": "code",
        "colab": {}
      },
      "source": [
        "# Construct a reference to the \"full\" table\n",
        "table_ref = dataset_ref.table(\"full\")\n",
        "\n",
        "# API request - fetch the table\n",
        "table = client.get_table(table_ref)"
      ],
      "execution_count": 0,
      "outputs": []
    },
    {
      "cell_type": "code",
      "metadata": {
        "id": "4xq8K5GMZ9PY",
        "colab_type": "code",
        "outputId": "9d3f1662-ca03-4626-9194-8d814cac1cb4",
        "colab": {
          "base_uri": "https://localhost:8080/",
          "height": 255
        }
      },
      "source": [
        "# Print information on all the columns in the \"full\" table in the \"hacker_news\" dataset\n",
        "table.schema"
      ],
      "execution_count": 0,
      "outputs": [
        {
          "output_type": "execute_result",
          "data": {
            "text/plain": [
              "[SchemaField('by', 'STRING', 'NULLABLE', \"The username of the item's author.\", ()),\n",
              " SchemaField('score', 'INTEGER', 'NULLABLE', 'Story score', ()),\n",
              " SchemaField('time', 'INTEGER', 'NULLABLE', 'Unix time', ()),\n",
              " SchemaField('timestamp', 'TIMESTAMP', 'NULLABLE', 'Timestamp for the unix time', ()),\n",
              " SchemaField('title', 'STRING', 'NULLABLE', 'Story title', ()),\n",
              " SchemaField('type', 'STRING', 'NULLABLE', 'Type of details (comment, comment_ranking, poll, story, job, pollopt)', ()),\n",
              " SchemaField('url', 'STRING', 'NULLABLE', 'Story url', ()),\n",
              " SchemaField('text', 'STRING', 'NULLABLE', 'Story or comment text', ()),\n",
              " SchemaField('parent', 'INTEGER', 'NULLABLE', 'Parent comment ID', ()),\n",
              " SchemaField('deleted', 'BOOLEAN', 'NULLABLE', 'Is deleted?', ()),\n",
              " SchemaField('dead', 'BOOLEAN', 'NULLABLE', 'Is dead?', ()),\n",
              " SchemaField('descendants', 'INTEGER', 'NULLABLE', 'Number of story or poll descendants', ()),\n",
              " SchemaField('id', 'INTEGER', 'NULLABLE', \"The item's unique id.\", ()),\n",
              " SchemaField('ranking', 'INTEGER', 'NULLABLE', 'Comment ranking', ())]"
            ]
          },
          "metadata": {
            "tags": []
          },
          "execution_count": 22
        }
      ]
    },
    {
      "cell_type": "code",
      "metadata": {
        "id": "DQQZr8JwbQQB",
        "colab_type": "code",
        "outputId": "b67ee512-3d23-4b09-b85f-4a790e5fdd4b",
        "colab": {
          "base_uri": "https://localhost:8080/",
          "height": 335
        }
      },
      "source": [
        "# Preview the first five lines of the \"full\" table\n",
        "client.list_rows(table, max_results = 2).to_dataframe()"
      ],
      "execution_count": 0,
      "outputs": [
        {
          "output_type": "execute_result",
          "data": {
            "text/html": [
              "<div>\n",
              "<style scoped>\n",
              "    .dataframe tbody tr th:only-of-type {\n",
              "        vertical-align: middle;\n",
              "    }\n",
              "\n",
              "    .dataframe tbody tr th {\n",
              "        vertical-align: top;\n",
              "    }\n",
              "\n",
              "    .dataframe thead th {\n",
              "        text-align: right;\n",
              "    }\n",
              "</style>\n",
              "<table border=\"1\" class=\"dataframe\">\n",
              "  <thead>\n",
              "    <tr style=\"text-align: right;\">\n",
              "      <th></th>\n",
              "      <th>by</th>\n",
              "      <th>score</th>\n",
              "      <th>time</th>\n",
              "      <th>timestamp</th>\n",
              "      <th>title</th>\n",
              "      <th>type</th>\n",
              "      <th>url</th>\n",
              "      <th>text</th>\n",
              "      <th>parent</th>\n",
              "      <th>deleted</th>\n",
              "      <th>dead</th>\n",
              "      <th>descendants</th>\n",
              "      <th>id</th>\n",
              "      <th>ranking</th>\n",
              "    </tr>\n",
              "  </thead>\n",
              "  <tbody>\n",
              "    <tr>\n",
              "      <th>0</th>\n",
              "      <td>pseudolus</td>\n",
              "      <td>4.0</td>\n",
              "      <td>1550813894</td>\n",
              "      <td>2019-02-22 05:38:14+00:00</td>\n",
              "      <td>Where America Should Look for a Health Care Mo...</td>\n",
              "      <td>story</td>\n",
              "      <td>https://www.nytimes.com/2019/02/20/opinion/hea...</td>\n",
              "      <td></td>\n",
              "      <td>NaN</td>\n",
              "      <td>None</td>\n",
              "      <td>None</td>\n",
              "      <td>0.0</td>\n",
              "      <td>19223386</td>\n",
              "      <td>None</td>\n",
              "    </tr>\n",
              "    <tr>\n",
              "      <th>1</th>\n",
              "      <td>lossolo</td>\n",
              "      <td>NaN</td>\n",
              "      <td>1492173009</td>\n",
              "      <td>2017-04-14 12:30:09+00:00</td>\n",
              "      <td></td>\n",
              "      <td>comment</td>\n",
              "      <td></td>\n",
              "      <td>&amp;gt; Go is a great language which combines C-l...</td>\n",
              "      <td>14113276.0</td>\n",
              "      <td>None</td>\n",
              "      <td>None</td>\n",
              "      <td>NaN</td>\n",
              "      <td>14114045</td>\n",
              "      <td>None</td>\n",
              "    </tr>\n",
              "  </tbody>\n",
              "</table>\n",
              "</div>"
            ],
            "text/plain": [
              "          by  score        time  ... descendants        id ranking\n",
              "0  pseudolus    4.0  1550813894  ...         0.0  19223386    None\n",
              "1    lossolo    NaN  1492173009  ...         NaN  14114045    None\n",
              "\n",
              "[2 rows x 14 columns]"
            ]
          },
          "metadata": {
            "tags": []
          },
          "execution_count": 26
        }
      ]
    },
    {
      "cell_type": "code",
      "metadata": {
        "id": "83-btmZjcWte",
        "colab_type": "code",
        "outputId": "57dc142d-c90b-40ae-93a7-6ecba8526863",
        "colab": {
          "base_uri": "https://localhost:8080/",
          "height": 204
        }
      },
      "source": [
        "# Preview the first five entries in the \"by\" column of the \"full\" table\n",
        "client.list_rows(table, selected_fields = table.schema[:1], max_results = 5).to_dataframe()"
      ],
      "execution_count": 0,
      "outputs": [
        {
          "output_type": "execute_result",
          "data": {
            "text/html": [
              "<div>\n",
              "<style scoped>\n",
              "    .dataframe tbody tr th:only-of-type {\n",
              "        vertical-align: middle;\n",
              "    }\n",
              "\n",
              "    .dataframe tbody tr th {\n",
              "        vertical-align: top;\n",
              "    }\n",
              "\n",
              "    .dataframe thead th {\n",
              "        text-align: right;\n",
              "    }\n",
              "</style>\n",
              "<table border=\"1\" class=\"dataframe\">\n",
              "  <thead>\n",
              "    <tr style=\"text-align: right;\">\n",
              "      <th></th>\n",
              "      <th>by</th>\n",
              "    </tr>\n",
              "  </thead>\n",
              "  <tbody>\n",
              "    <tr>\n",
              "      <th>0</th>\n",
              "      <td>pseudolus</td>\n",
              "    </tr>\n",
              "    <tr>\n",
              "      <th>1</th>\n",
              "      <td>lossolo</td>\n",
              "    </tr>\n",
              "    <tr>\n",
              "      <th>2</th>\n",
              "      <td>omaranto</td>\n",
              "    </tr>\n",
              "    <tr>\n",
              "      <th>3</th>\n",
              "      <td>ptaipale</td>\n",
              "    </tr>\n",
              "    <tr>\n",
              "      <th>4</th>\n",
              "      <td>asbromberg</td>\n",
              "    </tr>\n",
              "  </tbody>\n",
              "</table>\n",
              "</div>"
            ],
            "text/plain": [
              "           by\n",
              "0   pseudolus\n",
              "1     lossolo\n",
              "2    omaranto\n",
              "3    ptaipale\n",
              "4  asbromberg"
            ]
          },
          "metadata": {
            "tags": []
          },
          "execution_count": 27
        }
      ]
    },
    {
      "cell_type": "code",
      "metadata": {
        "id": "vUn-Bnhbd9oL",
        "colab_type": "code",
        "outputId": "366b7365-8b8d-4fdc-c542-620655b127ec",
        "colab": {
          "base_uri": "https://localhost:8080/",
          "height": 34
        }
      },
      "source": [
        "from google.cloud import bigquery\n",
        "\n",
        "# Create a \"Client\" object\n",
        "client = bigquery.Client()\n",
        "\n",
        "# Construct a reference to the \"openaq\" dataset\n",
        "dataset_ref = client.dataset(\"openaq\", project=\"bigquery-public-data\")\n",
        "\n",
        "# API request - fetch the dataset\n",
        "dataset = client.get_dataset(dataset_ref)\n",
        "\n",
        "# List all the tables in the \"openaq\" dataset\n",
        "tables = list(client.list_tables(dataset))\n",
        "\n",
        "# Print names of all tables in the dataset (there's only one!)\n",
        "for table in tables:  \n",
        "    print(table.table_id)"
      ],
      "execution_count": 0,
      "outputs": [
        {
          "output_type": "stream",
          "text": [
            "global_air_quality\n"
          ],
          "name": "stdout"
        }
      ]
    },
    {
      "cell_type": "code",
      "metadata": {
        "id": "SDzk1kSYkdhr",
        "colab_type": "code",
        "outputId": "7350eafc-b4d3-4436-bc67-9f9aaea114b1",
        "colab": {
          "base_uri": "https://localhost:8080/",
          "height": 204
        }
      },
      "source": [
        "# Construct a reference to the \"global_air_quality\" table\n",
        "table_ref = dataset_ref.table(\"global_air_quality\")\n",
        "\n",
        "# API request - fetch the table\n",
        "table = client.get_table(table_ref)\n",
        "\n",
        "# Preview the first five lines of the \"global_air_quality\" table\n",
        "client.list_rows(table, max_results=5).to_dataframe()"
      ],
      "execution_count": 0,
      "outputs": [
        {
          "output_type": "execute_result",
          "data": {
            "text/html": [
              "<div>\n",
              "<style scoped>\n",
              "    .dataframe tbody tr th:only-of-type {\n",
              "        vertical-align: middle;\n",
              "    }\n",
              "\n",
              "    .dataframe tbody tr th {\n",
              "        vertical-align: top;\n",
              "    }\n",
              "\n",
              "    .dataframe thead th {\n",
              "        text-align: right;\n",
              "    }\n",
              "</style>\n",
              "<table border=\"1\" class=\"dataframe\">\n",
              "  <thead>\n",
              "    <tr style=\"text-align: right;\">\n",
              "      <th></th>\n",
              "      <th>location</th>\n",
              "      <th>city</th>\n",
              "      <th>country</th>\n",
              "      <th>pollutant</th>\n",
              "      <th>value</th>\n",
              "      <th>timestamp</th>\n",
              "      <th>unit</th>\n",
              "      <th>source_name</th>\n",
              "      <th>latitude</th>\n",
              "      <th>longitude</th>\n",
              "      <th>averaged_over_in_hours</th>\n",
              "    </tr>\n",
              "  </thead>\n",
              "  <tbody>\n",
              "    <tr>\n",
              "      <th>0</th>\n",
              "      <td>BTM Layout, Bengaluru - KSPCB</td>\n",
              "      <td>Bengaluru</td>\n",
              "      <td>IN</td>\n",
              "      <td>co</td>\n",
              "      <td>910.00</td>\n",
              "      <td>2018-02-22 03:00:00+00:00</td>\n",
              "      <td>µg/m³</td>\n",
              "      <td>CPCB</td>\n",
              "      <td>12.912811</td>\n",
              "      <td>77.60922</td>\n",
              "      <td>0.25</td>\n",
              "    </tr>\n",
              "    <tr>\n",
              "      <th>1</th>\n",
              "      <td>BTM Layout, Bengaluru - KSPCB</td>\n",
              "      <td>Bengaluru</td>\n",
              "      <td>IN</td>\n",
              "      <td>no2</td>\n",
              "      <td>131.87</td>\n",
              "      <td>2018-02-22 03:00:00+00:00</td>\n",
              "      <td>µg/m³</td>\n",
              "      <td>CPCB</td>\n",
              "      <td>12.912811</td>\n",
              "      <td>77.60922</td>\n",
              "      <td>0.25</td>\n",
              "    </tr>\n",
              "    <tr>\n",
              "      <th>2</th>\n",
              "      <td>BTM Layout, Bengaluru - KSPCB</td>\n",
              "      <td>Bengaluru</td>\n",
              "      <td>IN</td>\n",
              "      <td>o3</td>\n",
              "      <td>15.57</td>\n",
              "      <td>2018-02-22 03:00:00+00:00</td>\n",
              "      <td>µg/m³</td>\n",
              "      <td>CPCB</td>\n",
              "      <td>12.912811</td>\n",
              "      <td>77.60922</td>\n",
              "      <td>0.25</td>\n",
              "    </tr>\n",
              "    <tr>\n",
              "      <th>3</th>\n",
              "      <td>BTM Layout, Bengaluru - KSPCB</td>\n",
              "      <td>Bengaluru</td>\n",
              "      <td>IN</td>\n",
              "      <td>pm25</td>\n",
              "      <td>45.62</td>\n",
              "      <td>2018-02-22 03:00:00+00:00</td>\n",
              "      <td>µg/m³</td>\n",
              "      <td>CPCB</td>\n",
              "      <td>12.912811</td>\n",
              "      <td>77.60922</td>\n",
              "      <td>0.25</td>\n",
              "    </tr>\n",
              "    <tr>\n",
              "      <th>4</th>\n",
              "      <td>BTM Layout, Bengaluru - KSPCB</td>\n",
              "      <td>Bengaluru</td>\n",
              "      <td>IN</td>\n",
              "      <td>so2</td>\n",
              "      <td>4.49</td>\n",
              "      <td>2018-02-22 03:00:00+00:00</td>\n",
              "      <td>µg/m³</td>\n",
              "      <td>CPCB</td>\n",
              "      <td>12.912811</td>\n",
              "      <td>77.60922</td>\n",
              "      <td>0.25</td>\n",
              "    </tr>\n",
              "  </tbody>\n",
              "</table>\n",
              "</div>"
            ],
            "text/plain": [
              "                        location       city  ... longitude averaged_over_in_hours\n",
              "0  BTM Layout, Bengaluru - KSPCB  Bengaluru  ...  77.60922                   0.25\n",
              "1  BTM Layout, Bengaluru - KSPCB  Bengaluru  ...  77.60922                   0.25\n",
              "2  BTM Layout, Bengaluru - KSPCB  Bengaluru  ...  77.60922                   0.25\n",
              "3  BTM Layout, Bengaluru - KSPCB  Bengaluru  ...  77.60922                   0.25\n",
              "4  BTM Layout, Bengaluru - KSPCB  Bengaluru  ...  77.60922                   0.25\n",
              "\n",
              "[5 rows x 11 columns]"
            ]
          },
          "metadata": {
            "tags": []
          },
          "execution_count": 29
        }
      ]
    },
    {
      "cell_type": "code",
      "metadata": {
        "id": "rcKcC0FqkwNb",
        "colab_type": "code",
        "colab": {}
      },
      "source": [
        "# Query to select all the items from the \"city\" column where the \"country\" column is 'India'\n",
        "query = \"\"\"\n",
        "     SELECT *\n",
        "        FROM `bigquery-public-data.openaq.global_air_quality`\n",
        "        WHERE country = 'IN'\n",
        "      \n",
        "      \"\"\"\n",
        "\n",
        "# Create a CLient object\n",
        "\n",
        "client = bigquery.Client()"
      ],
      "execution_count": 0,
      "outputs": []
    },
    {
      "cell_type": "code",
      "metadata": {
        "id": "xkup2WjElTN2",
        "colab_type": "code",
        "colab": {}
      },
      "source": [
        "# set up the query\n",
        "query_job = client.query(query)"
      ],
      "execution_count": 0,
      "outputs": []
    },
    {
      "cell_type": "code",
      "metadata": {
        "id": "8ATOiAqylfjo",
        "colab_type": "code",
        "colab": {}
      },
      "source": [
        "# API request - run the query, and return a pandas DataFrame\n",
        "india_cities = query_job.to_dataframe()"
      ],
      "execution_count": 0,
      "outputs": []
    },
    {
      "cell_type": "code",
      "metadata": {
        "id": "tgfO9J-Tlrj3",
        "colab_type": "code",
        "outputId": "8eacc937-b9cd-47f9-a32f-a82851f5aed2",
        "colab": {
          "base_uri": "https://localhost:8080/",
          "height": 289
        }
      },
      "source": [
        "india_cities.tail()"
      ],
      "execution_count": 0,
      "outputs": [
        {
          "output_type": "execute_result",
          "data": {
            "text/html": [
              "<div>\n",
              "<style scoped>\n",
              "    .dataframe tbody tr th:only-of-type {\n",
              "        vertical-align: middle;\n",
              "    }\n",
              "\n",
              "    .dataframe tbody tr th {\n",
              "        vertical-align: top;\n",
              "    }\n",
              "\n",
              "    .dataframe thead th {\n",
              "        text-align: right;\n",
              "    }\n",
              "</style>\n",
              "<table border=\"1\" class=\"dataframe\">\n",
              "  <thead>\n",
              "    <tr style=\"text-align: right;\">\n",
              "      <th></th>\n",
              "      <th>location</th>\n",
              "      <th>city</th>\n",
              "      <th>country</th>\n",
              "      <th>pollutant</th>\n",
              "      <th>value</th>\n",
              "      <th>timestamp</th>\n",
              "      <th>unit</th>\n",
              "      <th>source_name</th>\n",
              "      <th>latitude</th>\n",
              "      <th>longitude</th>\n",
              "      <th>averaged_over_in_hours</th>\n",
              "    </tr>\n",
              "  </thead>\n",
              "  <tbody>\n",
              "    <tr>\n",
              "      <th>1123</th>\n",
              "      <td>Punjabi Bagh, New Delhi - DPCC</td>\n",
              "      <td>Delhi</td>\n",
              "      <td>IN</td>\n",
              "      <td>o3</td>\n",
              "      <td>78.0</td>\n",
              "      <td>2018-03-20 06:30:00+00:00</td>\n",
              "      <td>µg/m³</td>\n",
              "      <td>data.gov.in</td>\n",
              "      <td>28.667086</td>\n",
              "      <td>77.13013</td>\n",
              "      <td>1.0</td>\n",
              "    </tr>\n",
              "    <tr>\n",
              "      <th>1124</th>\n",
              "      <td>Punjabi Bagh, New Delhi - DPCC</td>\n",
              "      <td>Delhi</td>\n",
              "      <td>IN</td>\n",
              "      <td>pm10</td>\n",
              "      <td>154.0</td>\n",
              "      <td>2018-03-20 06:30:00+00:00</td>\n",
              "      <td>µg/m³</td>\n",
              "      <td>data.gov.in</td>\n",
              "      <td>28.667086</td>\n",
              "      <td>77.13013</td>\n",
              "      <td>1.0</td>\n",
              "    </tr>\n",
              "    <tr>\n",
              "      <th>1125</th>\n",
              "      <td>Punjabi Bagh, New Delhi - DPCC</td>\n",
              "      <td>Delhi</td>\n",
              "      <td>IN</td>\n",
              "      <td>pm25</td>\n",
              "      <td>157.0</td>\n",
              "      <td>2018-03-20 06:30:00+00:00</td>\n",
              "      <td>µg/m³</td>\n",
              "      <td>data.gov.in</td>\n",
              "      <td>28.667086</td>\n",
              "      <td>77.13013</td>\n",
              "      <td>1.0</td>\n",
              "    </tr>\n",
              "    <tr>\n",
              "      <th>1126</th>\n",
              "      <td>Punjabi Bagh, New Delhi - DPCC</td>\n",
              "      <td>Delhi</td>\n",
              "      <td>IN</td>\n",
              "      <td>so2</td>\n",
              "      <td>31.0</td>\n",
              "      <td>2018-03-20 06:30:00+00:00</td>\n",
              "      <td>µg/m³</td>\n",
              "      <td>data.gov.in</td>\n",
              "      <td>28.667086</td>\n",
              "      <td>77.13013</td>\n",
              "      <td>1.0</td>\n",
              "    </tr>\n",
              "    <tr>\n",
              "      <th>1127</th>\n",
              "      <td>US Diplomatic Post: New Delhi</td>\n",
              "      <td>Delhi</td>\n",
              "      <td>IN</td>\n",
              "      <td>pm25</td>\n",
              "      <td>1985.0</td>\n",
              "      <td>2019-06-18 07:30:00+00:00</td>\n",
              "      <td>µg/m³</td>\n",
              "      <td>StateAir_NewDelhi</td>\n",
              "      <td>28.635760</td>\n",
              "      <td>77.22445</td>\n",
              "      <td>1.0</td>\n",
              "    </tr>\n",
              "  </tbody>\n",
              "</table>\n",
              "</div>"
            ],
            "text/plain": [
              "                            location   city  ... longitude averaged_over_in_hours\n",
              "1123  Punjabi Bagh, New Delhi - DPCC  Delhi  ...  77.13013                    1.0\n",
              "1124  Punjabi Bagh, New Delhi - DPCC  Delhi  ...  77.13013                    1.0\n",
              "1125  Punjabi Bagh, New Delhi - DPCC  Delhi  ...  77.13013                    1.0\n",
              "1126  Punjabi Bagh, New Delhi - DPCC  Delhi  ...  77.13013                    1.0\n",
              "1127   US Diplomatic Post: New Delhi  Delhi  ...  77.22445                    1.0\n",
              "\n",
              "[5 rows x 11 columns]"
            ]
          },
          "metadata": {
            "tags": []
          },
          "execution_count": 50
        }
      ]
    }
  ]
}